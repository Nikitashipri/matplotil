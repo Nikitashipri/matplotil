{
  "nbformat": 4,
  "nbformat_minor": 0,
  "metadata": {
    "colab": {
      "provenance": []
    },
    "kernelspec": {
      "name": "python3",
      "display_name": "Python 3"
    },
    "language_info": {
      "name": "python"
    }
  },
  "cells": [
    {
      "cell_type": "code",
      "execution_count": null,
      "metadata": {
        "id": "73l5t9x38btv"
      },
      "outputs": [],
      "source": [
        "import matplotlib.pyplot as plt\n",
        "import pandas as pd \n",
        "import numpy as np"
      ]
    },
    {
      "cell_type": "code",
      "source": [
        "s1_marks = np.array([67,34,89])\n",
        "subject=['maths','physcis','chemistry']\n",
        "plt.bar()"
      ],
      "metadata": {
        "id": "9XsEdCwHAx-k"
      },
      "execution_count": null,
      "outputs": []
    },
    {
      "cell_type": "code",
      "source": [
        "s1_marks = np.array([67,34,89])\n",
        "s2_marks = np.array([78,24,59])\n",
        "s3_marks = np.array([89,94,19])\n",
        "subject=['maths','physics','chemistry']\n",
        "plt.bar(subject,s1_marks, label='student1', color='#2345af')\n",
        "plt.bar(subject,s2_marks, bottom=s1_marks, label='student2', color='#23f567')\n",
        "plt.bar(subject,s3_marks, bottom=s2_marks+s1_marks, label='student3', color='#de45af')\n",
        "plt.legend()"
      ],
      "metadata": {
        "id": "yBDzRUvnBjQ2"
      },
      "execution_count": null,
      "outputs": []
    },
    {
      "cell_type": "code",
      "source": [
        "s1_marks = np.array([35,54,89])\n",
        "s1_marks = np.array([85,95,78])\n",
        "s1_marks = np.array([65,74,59])\n",
        "subject=['maths','physics','chemistry']\n",
        "plt.bar(subject,s1_marks, label='student1',color='y')\n",
        "plt.bar(subject,s2_marks,bottom=s1_marks, label='student2',color='k')\n",
        "plt.bar(subject,s3_marks,bottom=s2_marks+s1_marks, label='student3',color='r')\n",
        "plt.legend()\n"
      ],
      "metadata": {
        "id": "Pj5wWrWdCH8M"
      },
      "execution_count": null,
      "outputs": []
    },
    {
      "cell_type": "code",
      "source": [
        "s1_marks = np.array([35,54,89])\n",
        "s1_marks = np.array([85,95,78])\n",
        "s1_marks = np.array([65,74,59])\n",
        "subject=['maths','physics','chemistry']\n",
        "\n",
        "xvalues =np.array([1,2,3])\n",
        "\n",
        "plt.bar(xvalues,s1_marks, width=0.1, label='std1')\n",
        "plt.bar(xvalues+0.1,s2_marks, width=0.1, label='std2')\n",
        "plt.bar(xvalues+0.2,s3_marks, width=0.1, label='std3')\n",
        "plt.legend()\n",
        "plt.xticks(xvalues+0.15,subject)\n"
      ],
      "metadata": {
        "id": "8UerGQ7xHOmR"
      },
      "execution_count": null,
      "outputs": []
    },
    {
      "cell_type": "code",
      "source": [
        "temp =[97,93,100,99,102,98,97,109,109]\n",
        "plt.hist(temp,bins=2)"
      ],
      "metadata": {
        "id": "c5PGJVr9JzIK"
      },
      "execution_count": null,
      "outputs": []
    },
    {
      "cell_type": "code",
      "source": [
        "import numpy as np\n",
        "#random_temp = np.random.normal(-55,55,100)\n",
        "random_temp = np.random.randint(-55,55,100)\n",
        "plt.hist(random_temp,bins=50)"
      ],
      "metadata": {
        "id": "6Vb4rTZKKsb_"
      },
      "execution_count": null,
      "outputs": []
    },
    {
      "cell_type": "code",
      "source": [
        "marks = np.array([23,34,45,56,67,78,78,-120,-125,70,35,89,65,63,29,90,100,180,190])\n",
        "stu = pd.DataFrame(marks, columns=['marks'])\n",
        "stu\n",
        "plt.boxplot(marks)\n",
        "stu.describe()"
      ],
      "metadata": {
        "id": "AK0sjTRvR03D",
        "colab": {
          "base_uri": "https://localhost:8080/",
          "height": 549
        },
        "outputId": "176966f4-b1bd-4f30-f95e-3e7955569629"
      },
      "execution_count": null,
      "outputs": [
        {
          "output_type": "execute_result",
          "data": {
            "text/plain": [
              "            marks\n",
              "count   19.000000\n",
              "mean    55.105263\n",
              "std     76.562897\n",
              "min   -125.000000\n",
              "25%     34.500000\n",
              "50%     65.000000\n",
              "75%     83.500000\n",
              "max    190.000000"
            ],
            "text/html": [
              "\n",
              "  <div id=\"df-a110d231-c7e1-481e-b96d-4d118808c093\">\n",
              "    <div class=\"colab-df-container\">\n",
              "      <div>\n",
              "<style scoped>\n",
              "    .dataframe tbody tr th:only-of-type {\n",
              "        vertical-align: middle;\n",
              "    }\n",
              "\n",
              "    .dataframe tbody tr th {\n",
              "        vertical-align: top;\n",
              "    }\n",
              "\n",
              "    .dataframe thead th {\n",
              "        text-align: right;\n",
              "    }\n",
              "</style>\n",
              "<table border=\"1\" class=\"dataframe\">\n",
              "  <thead>\n",
              "    <tr style=\"text-align: right;\">\n",
              "      <th></th>\n",
              "      <th>marks</th>\n",
              "    </tr>\n",
              "  </thead>\n",
              "  <tbody>\n",
              "    <tr>\n",
              "      <th>count</th>\n",
              "      <td>19.000000</td>\n",
              "    </tr>\n",
              "    <tr>\n",
              "      <th>mean</th>\n",
              "      <td>55.105263</td>\n",
              "    </tr>\n",
              "    <tr>\n",
              "      <th>std</th>\n",
              "      <td>76.562897</td>\n",
              "    </tr>\n",
              "    <tr>\n",
              "      <th>min</th>\n",
              "      <td>-125.000000</td>\n",
              "    </tr>\n",
              "    <tr>\n",
              "      <th>25%</th>\n",
              "      <td>34.500000</td>\n",
              "    </tr>\n",
              "    <tr>\n",
              "      <th>50%</th>\n",
              "      <td>65.000000</td>\n",
              "    </tr>\n",
              "    <tr>\n",
              "      <th>75%</th>\n",
              "      <td>83.500000</td>\n",
              "    </tr>\n",
              "    <tr>\n",
              "      <th>max</th>\n",
              "      <td>190.000000</td>\n",
              "    </tr>\n",
              "  </tbody>\n",
              "</table>\n",
              "</div>\n",
              "      <button class=\"colab-df-convert\" onclick=\"convertToInteractive('df-a110d231-c7e1-481e-b96d-4d118808c093')\"\n",
              "              title=\"Convert this dataframe to an interactive table.\"\n",
              "              style=\"display:none;\">\n",
              "        \n",
              "  <svg xmlns=\"http://www.w3.org/2000/svg\" height=\"24px\"viewBox=\"0 0 24 24\"\n",
              "       width=\"24px\">\n",
              "    <path d=\"M0 0h24v24H0V0z\" fill=\"none\"/>\n",
              "    <path d=\"M18.56 5.44l.94 2.06.94-2.06 2.06-.94-2.06-.94-.94-2.06-.94 2.06-2.06.94zm-11 1L8.5 8.5l.94-2.06 2.06-.94-2.06-.94L8.5 2.5l-.94 2.06-2.06.94zm10 10l.94 2.06.94-2.06 2.06-.94-2.06-.94-.94-2.06-.94 2.06-2.06.94z\"/><path d=\"M17.41 7.96l-1.37-1.37c-.4-.4-.92-.59-1.43-.59-.52 0-1.04.2-1.43.59L10.3 9.45l-7.72 7.72c-.78.78-.78 2.05 0 2.83L4 21.41c.39.39.9.59 1.41.59.51 0 1.02-.2 1.41-.59l7.78-7.78 2.81-2.81c.8-.78.8-2.07 0-2.86zM5.41 20L4 18.59l7.72-7.72 1.47 1.35L5.41 20z\"/>\n",
              "  </svg>\n",
              "      </button>\n",
              "      \n",
              "  <style>\n",
              "    .colab-df-container {\n",
              "      display:flex;\n",
              "      flex-wrap:wrap;\n",
              "      gap: 12px;\n",
              "    }\n",
              "\n",
              "    .colab-df-convert {\n",
              "      background-color: #E8F0FE;\n",
              "      border: none;\n",
              "      border-radius: 50%;\n",
              "      cursor: pointer;\n",
              "      display: none;\n",
              "      fill: #1967D2;\n",
              "      height: 32px;\n",
              "      padding: 0 0 0 0;\n",
              "      width: 32px;\n",
              "    }\n",
              "\n",
              "    .colab-df-convert:hover {\n",
              "      background-color: #E2EBFA;\n",
              "      box-shadow: 0px 1px 2px rgba(60, 64, 67, 0.3), 0px 1px 3px 1px rgba(60, 64, 67, 0.15);\n",
              "      fill: #174EA6;\n",
              "    }\n",
              "\n",
              "    [theme=dark] .colab-df-convert {\n",
              "      background-color: #3B4455;\n",
              "      fill: #D2E3FC;\n",
              "    }\n",
              "\n",
              "    [theme=dark] .colab-df-convert:hover {\n",
              "      background-color: #434B5C;\n",
              "      box-shadow: 0px 1px 3px 1px rgba(0, 0, 0, 0.15);\n",
              "      filter: drop-shadow(0px 1px 2px rgba(0, 0, 0, 0.3));\n",
              "      fill: #FFFFFF;\n",
              "    }\n",
              "  </style>\n",
              "\n",
              "      <script>\n",
              "        const buttonEl =\n",
              "          document.querySelector('#df-a110d231-c7e1-481e-b96d-4d118808c093 button.colab-df-convert');\n",
              "        buttonEl.style.display =\n",
              "          google.colab.kernel.accessAllowed ? 'block' : 'none';\n",
              "\n",
              "        async function convertToInteractive(key) {\n",
              "          const element = document.querySelector('#df-a110d231-c7e1-481e-b96d-4d118808c093');\n",
              "          const dataTable =\n",
              "            await google.colab.kernel.invokeFunction('convertToInteractive',\n",
              "                                                     [key], {});\n",
              "          if (!dataTable) return;\n",
              "\n",
              "          const docLinkHtml = 'Like what you see? Visit the ' +\n",
              "            '<a target=\"_blank\" href=https://colab.research.google.com/notebooks/data_table.ipynb>data table notebook</a>'\n",
              "            + ' to learn more about interactive tables.';\n",
              "          element.innerHTML = '';\n",
              "          dataTable['output_type'] = 'display_data';\n",
              "          await google.colab.output.renderOutput(dataTable, element);\n",
              "          const docLink = document.createElement('div');\n",
              "          docLink.innerHTML = docLinkHtml;\n",
              "          element.appendChild(docLink);\n",
              "        }\n",
              "      </script>\n",
              "    </div>\n",
              "  </div>\n",
              "  "
            ]
          },
          "metadata": {},
          "execution_count": 33
        },
        {
          "output_type": "display_data",
          "data": {
            "text/plain": [
              "<Figure size 432x288 with 1 Axes>"
            ],
            "image/png": "[encoded data removed]"
          },
          "metadata": {
            "needs_background": "light"
          }
        }
      ]
    },
    {
      "cell_type": "code",
      "source": [
        "# remove and detect outliers\n",
        "q1 = stu['marks'].quantile(0.25)\n",
        "q1\n",
        "q3 = stu['marks'].quantile(0.75)\n",
        "q3\n",
        "iqr = q3-q1\n",
        "ou_max = q3+1.5*iqr\n",
        "ou_min = q1-1.5*iqr\n",
        "\n",
        "for row_no in range(len(stu)):\n",
        "  if stu['marks'].iloc[row_no] > ou_max:\n",
        "    stu['marks'].iloc[row_no] = np.NaN\n",
        "  elif stu['marks'].iloc[row_no] < ou_min:\n",
        "    stu['marks'].iloc[row_no] = np.NaN"
      ],
      "metadata": {
        "id": "bRGp1TxBL66M"
      },
      "execution_count": null,
      "outputs": []
    },
    {
      "cell_type": "code",
      "source": [
        "fig1 = plt.figure(figsize=(15,15))\n",
        "\n",
        "plt.subplot(2,2,1)\n",
        "plt.plot([1,2,3],[11,22,33])\n",
        "\n",
        "plt.subplot(2,2,2)\n",
        "plt.scatter([1,2,3],[11,22,33])\n",
        "\n",
        "plt.subplot(2,2,3)\n",
        "plt.hist(random_temp)\n",
        "\n",
        "plt.subplot(2,2,4)\n",
        "plt.boxplot([stu['marks'],random_temp])\n",
        "\n",
        "fig1.savefig('subplot2.png')"
      ],
      "metadata": {
        "id": "IOSLoJmndqzK"
      },
      "execution_count": null,
      "outputs": []
    },
    {
      "cell_type": "code",
      "source": [
        "import seaborn as sn\n",
        "\n",
        "\n",
        "mtcars = pd.read_csv('mtcars.csv')\n",
        "\n"
      ],
      "metadata": {
        "id": "MOzHXjTmd0yr"
      },
      "execution_count": null,
      "outputs": []
    },
    {
      "cell_type": "code",
      "source": [
        "import numpy as np\n",
        "\n",
        "ar2 = np.random.randint(-100,200,size=(5,6))\n",
        "ar2"
      ],
      "metadata": {
        "colab": {
          "base_uri": "https://localhost:8080/"
        },
        "id": "Ov8mSPigeR02",
        "outputId": "bf29c6f3-ab49-4360-ffb9-e1ac9796f064"
      },
      "execution_count": null,
      "outputs": [
        {
          "output_type": "execute_result",
          "data": {
            "text/plain": [
              "array([[ -3, -98,  53,  69,  31, 150],\n",
              "       [-94,  75, 138, 187, 137,  14],\n",
              "       [ 86,  15, -84,  40, 102, -49],\n",
              "       [184,  19, 164, 196,  96, -60],\n",
              "       [ 51, 172,  27, 131,   8, 164]])"
            ]
          },
          "metadata": {},
          "execution_count": 58
        }
      ]
    },
    {
      "cell_type": "code",
      "source": [
        "sn.heatmap(ar2,annot=True)"
      ],
      "metadata": {
        "colab": {
          "base_uri": "https://localhost:8080/",
          "height": 282
        },
        "id": "6bVhGtief3mj",
        "outputId": "6fbeb4c1-6a27-4953-fc21-2144a52ef104"
      },
      "execution_count": null,
      "outputs": [
        {
          "output_type": "execute_result",
          "data": {
            "text/plain": [
              "<AxesSubplot:>"
            ]
          },
          "metadata": {},
          "execution_count": 59
        },
        {
          "output_type": "display_data",
          "data": {
            "text/plain": [
              "<Figure size 432x288 with 2 Axes>"
            ],
            "image/png": "[encoded data removed]"
          },
          "metadata": {
            "needs_background": "light"
          }
        }
      ]
    },
    {
      "cell_type": "code",
      "source": [
        "mt = mtcars[['mpg','hp','gear','am']]\n",
        "sn.pairplot(mt)"
      ],
      "metadata": {
        "id": "qpDhavMugj8M"
      },
      "execution_count": null,
      "outputs": []
    },
    {
      "cell_type": "code",
      "source": [
        "sn.countplot(mt['gear'])"
      ],
      "metadata": {
        "colab": {
          "base_uri": "https://localhost:8080/",
          "height": 351
        },
        "id": "_KkZMlNhg_RA",
        "outputId": "0b2d8f85-9d90-4e8b-f8e8-b35fbdbb49e2"
      },
      "execution_count": null,
      "outputs": [
        {
          "output_type": "stream",
          "name": "stderr",
          "text": [
            "/usr/local/lib/python3.8/dist-packages/seaborn/_decorators.py:36: FutureWarning: Pass the following variable as a keyword arg: x. From version 0.12, the only valid positional argument will be `data`, and passing other arguments without an explicit keyword will result in an error or misinterpretation.\n",
            "  warnings.warn(\n"
          ]
        },
        {
          "output_type": "execute_result",
          "data": {
            "text/plain": [
              "<AxesSubplot:xlabel='gear', ylabel='count'>"
            ]
          },
          "metadata": {},
          "execution_count": 61
        },
        {
          "output_type": "display_data",
          "data": {
            "text/plain": [
              "<Figure size 432x288 with 1 Axes>"
            ],
            "image/png": "[encoded data removed]"
          },
          "metadata": {
            "needs_background": "light"
          }
        }
      ]
    }
  ]
}